{
 "cells": [
  {
   "cell_type": "code",
   "execution_count": 26,
   "metadata": {},
   "outputs": [],
   "source": [
    "# standard imports\n",
    "import numpy as np\n",
    "import pandas as pd\n",
    "import matplotlib.pyplot as plt\n",
    "import os # need for file enumeration\n",
    "import pickle # to save model\n",
    "\n",
    "from tensorflow.keras.preprocessing.image import ImageDataGenerator\n",
    "from tensorflow.keras.models import Sequential\n",
    "from tensorflow.keras.layers import Dense, Dropout, Flatten, Conv2D, MaxPooling2D\n",
    "from tensorflow.keras import utils\n",
    "\n",
    "# For reproducibility\n",
    "np.random.seed(42)"
   ]
  },
  {
   "cell_type": "code",
   "execution_count": 3,
   "metadata": {},
   "outputs": [],
   "source": [
    "# get our file listings for train and test\n",
    "train_files = os.listdir('images/train/')\n",
    "test_files = os.listdir('images/test/')"
   ]
  },
  {
   "cell_type": "code",
   "execution_count": 5,
   "metadata": {},
   "outputs": [],
   "source": [
    "# convert filenames into dataframes\n",
    "train_df = pd.DataFrame(train_files, columns = ['filename'])\n",
    "test_df = pd.DataFrame(test_files, columns = ['filename'])"
   ]
  },
  {
   "cell_type": "code",
   "execution_count": 15,
   "metadata": {},
   "outputs": [],
   "source": [
    "# label 'em\n",
    "train_df['hotdog'] = train_df['filename'].map(lambda x:\n",
    "    'hotdog' if x.startswith('hotdog') else 'nothotdog')\n",
    "test_df['hotdog'] = test_df['filename'].map(lambda x:\n",
    "    'hotdog' if x.startswith('hotdog') else 'nothotdog')"
   ]
  },
  {
   "cell_type": "code",
   "execution_count": 16,
   "metadata": {},
   "outputs": [
    {
     "name": "stdout",
     "output_type": "stream",
     "text": [
      "Found 3000 validated image filenames belonging to 2 classes.\n",
      "Found 644 validated image filenames belonging to 2 classes.\n"
     ]
    }
   ],
   "source": [
    "# set up imagedatagenerators\n",
    "train_datagen = ImageDataGenerator(\n",
    "        rescale=1./255,\n",
    "        shear_range=0.2,\n",
    "        zoom_range=0.2,\n",
    "        horizontal_flip=True)\n",
    "test_datagen = ImageDataGenerator(rescale=1./255)\n",
    "train_generator = train_datagen.flow_from_dataframe(\n",
    "        dataframe = train_df,\n",
    "        directory = 'images/train',\n",
    "        x_col = 'filename',\n",
    "        y_col = 'hotdog',\n",
    "        target_size=(300, 300),\n",
    "        batch_size=32,\n",
    "        class_mode='binary')\n",
    "validation_generator = test_datagen.flow_from_dataframe(\n",
    "        dataframe = test_df,\n",
    "        directory = 'images/test',\n",
    "        x_col = 'filename',\n",
    "        y_col = 'hotdog',\n",
    "        target_size=(300, 300),\n",
    "        batch_size=32,\n",
    "        class_mode='binary')"
   ]
  },
  {
   "cell_type": "code",
   "execution_count": 24,
   "metadata": {},
   "outputs": [
    {
     "data": {
      "text/plain": [
       "hotdog       0.5\n",
       "nothotdog    0.5\n",
       "Name: hotdog, dtype: float64"
      ]
     },
     "execution_count": 24,
     "metadata": {},
     "output_type": "execute_result"
    }
   ],
   "source": [
    "# train baseline\n",
    "train_df['hotdog'].value_counts(normalize = True)"
   ]
  },
  {
   "cell_type": "code",
   "execution_count": 25,
   "metadata": {},
   "outputs": [
    {
     "data": {
      "text/plain": [
       "hotdog       0.5\n",
       "nothotdog    0.5\n",
       "Name: hotdog, dtype: float64"
      ]
     },
     "execution_count": 25,
     "metadata": {},
     "output_type": "execute_result"
    }
   ],
   "source": [
    "# test baseline\n",
    "test_df['hotdog'].value_counts(normalize = True)"
   ]
  },
  {
   "cell_type": "code",
   "execution_count": 18,
   "metadata": {},
   "outputs": [],
   "source": [
    "# set up model\n",
    "cnn_model = Sequential()\n",
    "\n",
    "cnn_model.add(Conv2D( \n",
    "  filters = 6, # number of filters\n",
    "  kernel_size = (3, 3), # height/width of filter\n",
    "  activation = 'relu', # activation function \n",
    "  input_shape = (300, 300, 1) # shape of input (image)\n",
    "))\n",
    "\n",
    "cnn_model.add(MaxPooling2D(pool_size = (2, 2))) # dimensions of region of pooling\n",
    "\n",
    "cnn_model.add(Conv2D(filters = 16,\n",
    "                     kernel_size = (3, 3),\n",
    "                     activation = 'relu'))\n",
    "\n",
    "cnn_model.add(MaxPooling2D(pool_size = (2, 2)))\n",
    "\n",
    "cnn_model.add(Flatten())\n",
    "\n",
    "cnn_model.add(Dense(units = 128, activation = 'relu'))\n",
    "\n",
    "cnn_model.add(Dense(units = 1, activation = 'sigmoid'))\n",
    "\n",
    "cnn_model.compile(loss = 'binary_crossentropy',\n",
    "                  optimizer ='adam',\n",
    "                  metrics = ['accuracy'])\n"
   ]
  },
  {
   "cell_type": "code",
   "execution_count": 20,
   "metadata": {},
   "outputs": [
    {
     "name": "stdout",
     "output_type": "stream",
     "text": [
      "Epoch 1/5\n",
      "94/94 [==============================] - 75s 797ms/step - loss: 0.6622 - accuracy: 0.5990 - val_loss: 0.6664 - val_accuracy: 0.5776\n",
      "Epoch 2/5\n",
      "94/94 [==============================] - 56s 599ms/step - loss: 0.6151 - accuracy: 0.6633 - val_loss: 0.7246 - val_accuracy: 0.6165\n",
      "Epoch 3/5\n",
      "94/94 [==============================] - 66s 706ms/step - loss: 0.5786 - accuracy: 0.6930 - val_loss: 0.6684 - val_accuracy: 0.6196\n",
      "Epoch 4/5\n",
      "94/94 [==============================] - 63s 670ms/step - loss: 0.5722 - accuracy: 0.7003 - val_loss: 0.6070 - val_accuracy: 0.6957\n",
      "Epoch 5/5\n",
      "94/94 [==============================] - 62s 653ms/step - loss: 0.5465 - accuracy: 0.7280 - val_loss: 0.6226 - val_accuracy: 0.6848\n"
     ]
    },
    {
     "data": {
      "text/plain": [
       "<keras.callbacks.History at 0x2502aa6a970>"
      ]
     },
     "execution_count": 20,
     "metadata": {},
     "output_type": "execute_result"
    }
   ],
   "source": [
    "# fit model\n",
    "cnn_model.fit(\n",
    "        train_generator,\n",
    "        epochs = 5,\n",
    "        validation_data = validation_generator)"
   ]
  },
  {
   "cell_type": "code",
   "execution_count": 28,
   "metadata": {},
   "outputs": [
    {
     "name": "stderr",
     "output_type": "stream",
     "text": [
      "WARNING:absl:Found untraced functions such as _jit_compiled_convolution_op, _jit_compiled_convolution_op while saving (showing 2 of 2). These functions will not be directly callable after loading.\n"
     ]
    },
    {
     "name": "stdout",
     "output_type": "stream",
     "text": [
      "INFO:tensorflow:Assets written to: ram://04246d1e-8d85-440c-8a7a-38ba89780410/assets\n"
     ]
    },
    {
     "name": "stderr",
     "output_type": "stream",
     "text": [
      "INFO:tensorflow:Assets written to: ram://04246d1e-8d85-440c-8a7a-38ba89780410/assets\n"
     ]
    }
   ],
   "source": [
    "with open('./models/cnn_1.pkl', 'wb') as f:\n",
    "    pickle.dump(cnn_model, f)"
   ]
  }
 ],
 "metadata": {
  "kernelspec": {
   "display_name": "Python 3.9.12 ('base')",
   "language": "python",
   "name": "python3"
  },
  "language_info": {
   "codemirror_mode": {
    "name": "ipython",
    "version": 3
   },
   "file_extension": ".py",
   "mimetype": "text/x-python",
   "name": "python",
   "nbconvert_exporter": "python",
   "pygments_lexer": "ipython3",
   "version": "3.9.12"
  },
  "orig_nbformat": 4,
  "vscode": {
   "interpreter": {
    "hash": "5c5d815f4904d5c36e1cb6a23cb867a61c9881b6acdb1b6d63422ceae43ed5d6"
   }
  }
 },
 "nbformat": 4,
 "nbformat_minor": 2
}

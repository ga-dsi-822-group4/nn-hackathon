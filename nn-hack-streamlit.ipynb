{
 "cells": [
  {
   "cell_type": "code",
   "execution_count": 22,
   "metadata": {},
   "outputs": [],
   "source": [
    "# Imports\n",
    "\n",
    "import numpy as np\n",
    "import pandas as pd\n",
    "from operator import mod \n",
    "import streamlit as st \n",
    "import pickle \n",
    "import os # need for file enumeration\n",
    "\n",
    "import tensorflow as tf\n",
    "from tensorflow import keras\n",
    "from tensorflow.keras.preprocessing.image import ImageDataGenerator\n",
    "from tensorflow.keras.models import Sequential\n",
    "from tensorflow.keras.layers import Dense, Dropout, Flatten, Conv2D, MaxPooling2D\n",
    "from tensorflow.keras import utils\n",
    "\n",
    "# For reproducibility\n",
    "np.random.seed(42)"
   ]
  },
  {
   "cell_type": "code",
   "execution_count": 6,
   "metadata": {},
   "outputs": [],
   "source": [
    "# get our file listings for train and test\n",
    "train_files = os.listdir('images/train/')\n",
    "test_files = os.listdir('images/test/')"
   ]
  },
  {
   "cell_type": "code",
   "execution_count": 7,
   "metadata": {},
   "outputs": [],
   "source": [
    "# convert filenames into dataframes\n",
    "train_df = pd.DataFrame(train_files, columns = ['filename'])\n",
    "test_df = pd.DataFrame(test_files, columns = ['filename'])"
   ]
  },
  {
   "cell_type": "code",
   "execution_count": 8,
   "metadata": {},
   "outputs": [],
   "source": [
    "# label 'em\n",
    "train_df['hotdog'] = train_df['filename'].map(lambda x:\n",
    "    'hotdog' if x.startswith('hotdog') else 'nothotdog')\n",
    "test_df['hotdog'] = test_df['filename'].map(lambda x:\n",
    "    'hotdog' if x.startswith('hotdog') else 'nothotdog')"
   ]
  },
  {
   "cell_type": "code",
   "execution_count": 15,
   "metadata": {},
   "outputs": [
    {
     "name": "stdout",
     "output_type": "stream",
     "text": [
      "Found 3000 validated image filenames belonging to 2 classes.\n",
      "Found 644 validated image filenames belonging to 2 classes.\n"
     ]
    }
   ],
   "source": [
    "# set up imagedatagenerators\n",
    "from turtle import colormode\n",
    "\n",
    "\n",
    "train_datagen = ImageDataGenerator(\n",
    "        rescale=1./255,\n",
    "        shear_range=0.2,\n",
    "        zoom_range=0.2,\n",
    "        horizontal_flip=True)\n",
    "test_datagen = ImageDataGenerator(rescale=1./255)\n",
    "train_generator = train_datagen.flow_from_dataframe(\n",
    "        dataframe = train_df,\n",
    "        directory = 'images/train',\n",
    "        x_col = 'filename',\n",
    "        y_col = 'hotdog',\n",
    "        target_size=(300, 300),\n",
    "        batch_size=32,\n",
    "        class_mode='binary',\n",
    "        color_mode = 'grayscale')\n",
    "validation_generator = test_datagen.flow_from_dataframe(\n",
    "        dataframe = test_df,\n",
    "        directory = 'images/test',\n",
    "        x_col = 'filename',\n",
    "        y_col = 'hotdog',\n",
    "        target_size=(300, 300),\n",
    "        batch_size=32,\n",
    "        class_mode='binary',\n",
    "        color_mode = 'grayscale')"
   ]
  },
  {
   "cell_type": "code",
   "execution_count": 16,
   "metadata": {},
   "outputs": [
    {
     "data": {
      "text/plain": [
       "hotdog       0.5\n",
       "nothotdog    0.5\n",
       "Name: hotdog, dtype: float64"
      ]
     },
     "execution_count": 16,
     "metadata": {},
     "output_type": "execute_result"
    }
   ],
   "source": [
    "# train baseline\n",
    "train_df['hotdog'].value_counts(normalize = True)"
   ]
  },
  {
   "cell_type": "code",
   "execution_count": 17,
   "metadata": {},
   "outputs": [
    {
     "data": {
      "text/plain": [
       "nothotdog    0.5\n",
       "hotdog       0.5\n",
       "Name: hotdog, dtype: float64"
      ]
     },
     "execution_count": 17,
     "metadata": {},
     "output_type": "execute_result"
    }
   ],
   "source": [
    "# test baseline\n",
    "test_df['hotdog'].value_counts(normalize = True)"
   ]
  },
  {
   "cell_type": "code",
   "execution_count": 19,
   "metadata": {},
   "outputs": [],
   "source": [
    "# set up model\n",
    "cnn_model = Sequential()\n",
    "\n",
    "cnn_model.add(Conv2D( \n",
    "  filters = 6, # number of filters\n",
    "  kernel_size = (3, 3), # height/width of filter\n",
    "  activation = 'relu', # activation function \n",
    "  input_shape = (300, 300, 3) # shape of input (image)\n",
    "))\n",
    "\n",
    "cnn_model.add(MaxPooling2D(pool_size = (2, 2))) # dimensions of region of pooling\n",
    "\n",
    "cnn_model.add(Conv2D(filters = 16,\n",
    "                     kernel_size = (3, 3),\n",
    "                     activation = 'relu'))\n",
    "\n",
    "cnn_model.add(MaxPooling2D(pool_size = (2, 2)))\n",
    "\n",
    "cnn_model.add(Flatten())\n",
    "\n",
    "cnn_model.add(Dense(units = 128, activation = 'relu'))\n",
    "\n",
    "cnn_model.add(Dense(units = 1, activation = 'sigmoid'))\n",
    "\n",
    "cnn_model.compile(loss = 'binary_crossentropy',\n",
    "                  optimizer ='adam',\n",
    "                  metrics = ['accuracy'])"
   ]
  },
  {
   "cell_type": "code",
   "execution_count": 21,
   "metadata": {},
   "outputs": [
    {
     "name": "stdout",
     "output_type": "stream",
     "text": [
      "Epoch 1/10\n",
      "94/94 [==============================] - 59s 629ms/step - loss: 0.6378 - accuracy: 0.6343 - val_loss: 0.7011 - val_accuracy: 0.6040\n",
      "Epoch 2/10\n",
      "94/94 [==============================] - 58s 618ms/step - loss: 0.6206 - accuracy: 0.6583 - val_loss: 0.7110 - val_accuracy: 0.6304\n",
      "Epoch 3/10\n",
      "94/94 [==============================] - 61s 642ms/step - loss: 0.6089 - accuracy: 0.6663 - val_loss: 0.6372 - val_accuracy: 0.6832\n",
      "Epoch 4/10\n",
      "94/94 [==============================] - 56s 589ms/step - loss: 0.6028 - accuracy: 0.6660 - val_loss: 0.6983 - val_accuracy: 0.6289\n",
      "Epoch 5/10\n",
      "94/94 [==============================] - 56s 596ms/step - loss: 0.5988 - accuracy: 0.6753 - val_loss: 0.6134 - val_accuracy: 0.6863\n",
      "Epoch 6/10\n",
      "94/94 [==============================] - 59s 627ms/step - loss: 0.6015 - accuracy: 0.6647 - val_loss: 0.7833 - val_accuracy: 0.6413\n",
      "Epoch 7/10\n",
      "94/94 [==============================] - 59s 622ms/step - loss: 0.5744 - accuracy: 0.6970 - val_loss: 0.7991 - val_accuracy: 0.6258\n",
      "Epoch 8/10\n",
      "94/94 [==============================] - 60s 635ms/step - loss: 0.5706 - accuracy: 0.7053 - val_loss: 0.6189 - val_accuracy: 0.6786\n",
      "Epoch 9/10\n",
      "94/94 [==============================] - 66s 695ms/step - loss: 0.5663 - accuracy: 0.7167 - val_loss: 0.6613 - val_accuracy: 0.6988\n",
      "Epoch 10/10\n",
      "94/94 [==============================] - 58s 617ms/step - loss: 0.5596 - accuracy: 0.7143 - val_loss: 0.6783 - val_accuracy: 0.6910\n"
     ]
    },
    {
     "data": {
      "text/plain": [
       "<keras.callbacks.History at 0x142c3f2e0>"
      ]
     },
     "execution_count": 21,
     "metadata": {},
     "output_type": "execute_result"
    }
   ],
   "source": [
    "# fit model\n",
    "cnn_model.fit(\n",
    "        train_generator,\n",
    "        epochs = 10,\n",
    "        validation_data = validation_generator,\n",
    "        batch_size = 128)"
   ]
  },
  {
   "cell_type": "code",
   "execution_count": 27,
   "metadata": {},
   "outputs": [
    {
     "name": "stderr",
     "output_type": "stream",
     "text": [
      "2022-10-21 13:30:01.076 Found untraced functions such as _jit_compiled_convolution_op, _jit_compiled_convolution_op while saving (showing 2 of 2). These functions will not be directly callable after loading.\n",
      "2022-10-21 13:30:02.042 Assets written to: ./models/cnn_1_exported/assets\n"
     ]
    }
   ],
   "source": [
    "cnn_model.save('./models/cnn_1_exported')"
   ]
  }
 ],
 "metadata": {
  "kernelspec": {
   "display_name": "Python 3.9.6 64-bit ('3.9.6')",
   "language": "python",
   "name": "python3"
  },
  "language_info": {
   "codemirror_mode": {
    "name": "ipython",
    "version": 3
   },
   "file_extension": ".py",
   "mimetype": "text/x-python",
   "name": "python",
   "nbconvert_exporter": "python",
   "pygments_lexer": "ipython3",
   "version": "3.9.6"
  },
  "orig_nbformat": 4,
  "vscode": {
   "interpreter": {
    "hash": "d3fbca8c5142a5f3fc0e150e2aa7dc992112775c37c59dc77ad7b753c4c0bceb"
   }
  }
 },
 "nbformat": 4,
 "nbformat_minor": 2
}

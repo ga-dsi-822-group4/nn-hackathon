{
 "cells": [
  {
   "cell_type": "code",
   "execution_count": 14,
   "metadata": {},
   "outputs": [],
   "source": [
    "# standard imports\n",
    "import numpy as np\n",
    "import pandas as pd\n",
    "import matplotlib.pyplot as plt\n",
    "import os # need for file enumeration\n",
    "import pickle # to save model\n",
    "\n",
    "from tensorflow.keras.preprocessing.image import ImageDataGenerator\n",
    "from tensorflow.keras.models import Sequential\n",
    "from tensorflow.keras.layers import Dense, Dropout, Flatten, Conv2D, MaxPooling2D\n",
    "from tensorflow.keras.regularizers import l2\n",
    "from tensorflow.keras.callbacks import EarlyStopping\n",
    "\n",
    "# For reproducibility\n",
    "np.random.seed(42)"
   ]
  },
  {
   "cell_type": "code",
   "execution_count": 3,
   "metadata": {},
   "outputs": [],
   "source": [
    "# get our file listings for train and test\n",
    "train_files = os.listdir('images/train/')\n",
    "test_files = os.listdir('images/test/')"
   ]
  },
  {
   "cell_type": "code",
   "execution_count": 4,
   "metadata": {},
   "outputs": [],
   "source": [
    "# convert filenames into dataframes\n",
    "train_df = pd.DataFrame(train_files, columns = ['filename'])\n",
    "test_df = pd.DataFrame(test_files, columns = ['filename'])"
   ]
  },
  {
   "cell_type": "code",
   "execution_count": 5,
   "metadata": {},
   "outputs": [],
   "source": [
    "# label 'em\n",
    "train_df['hotdog'] = train_df['filename'].map(lambda x:\n",
    "    'hotdog' if x.startswith('hotdog') else 'nothotdog')\n",
    "test_df['hotdog'] = test_df['filename'].map(lambda x:\n",
    "    'hotdog' if x.startswith('hotdog') else 'nothotdog')"
   ]
  },
  {
   "cell_type": "code",
   "execution_count": 6,
   "metadata": {},
   "outputs": [
    {
     "name": "stdout",
     "output_type": "stream",
     "text": [
      "Found 3000 validated image filenames belonging to 2 classes.\n",
      "Found 644 validated image filenames belonging to 2 classes.\n"
     ]
    }
   ],
   "source": [
    "# set up imagedatagenerators\n",
    "train_datagen = ImageDataGenerator(\n",
    "        rescale=1./255,\n",
    "        shear_range=0.2,\n",
    "        zoom_range=0.2,\n",
    "        horizontal_flip=True)\n",
    "test_datagen = ImageDataGenerator(rescale=1./255)\n",
    "train_generator = train_datagen.flow_from_dataframe(\n",
    "        dataframe = train_df,\n",
    "        directory = 'images/train',\n",
    "        x_col = 'filename',\n",
    "        y_col = 'hotdog',\n",
    "        target_size=(300, 300),\n",
    "        batch_size=32,\n",
    "        class_mode='binary')\n",
    "validation_generator = test_datagen.flow_from_dataframe(\n",
    "        dataframe = test_df,\n",
    "        directory = 'images/test',\n",
    "        x_col = 'filename',\n",
    "        y_col = 'hotdog',\n",
    "        target_size=(300, 300),\n",
    "        batch_size=32,\n",
    "        class_mode='binary')"
   ]
  },
  {
   "cell_type": "code",
   "execution_count": 7,
   "metadata": {},
   "outputs": [
    {
     "data": {
      "text/plain": [
       "hotdog       0.5\n",
       "nothotdog    0.5\n",
       "Name: hotdog, dtype: float64"
      ]
     },
     "execution_count": 7,
     "metadata": {},
     "output_type": "execute_result"
    }
   ],
   "source": [
    "# train baseline\n",
    "train_df['hotdog'].value_counts(normalize = True)"
   ]
  },
  {
   "cell_type": "code",
   "execution_count": 8,
   "metadata": {},
   "outputs": [
    {
     "data": {
      "text/plain": [
       "hotdog       0.5\n",
       "nothotdog    0.5\n",
       "Name: hotdog, dtype: float64"
      ]
     },
     "execution_count": 8,
     "metadata": {},
     "output_type": "execute_result"
    }
   ],
   "source": [
    "# test baseline\n",
    "test_df['hotdog'].value_counts(normalize = True)"
   ]
  },
  {
   "cell_type": "code",
   "execution_count": 9,
   "metadata": {},
   "outputs": [],
   "source": [
    "# set up model\n",
    "cnn_model = Sequential()\n",
    "\n",
    "cnn_model.add(Conv2D( \n",
    "  filters = 6, # number of filters\n",
    "  kernel_size = (3, 3), # height/width of filter\n",
    "  activation = 'relu', # activation function \n",
    "  input_shape = (300, 300, 1) # shape of input (image)\n",
    "))\n",
    "\n",
    "cnn_model.add(MaxPooling2D(pool_size = (2, 2))) # dimensions of region of pooling\n",
    "\n",
    "cnn_model.add(Conv2D(filters = 16,\n",
    "                     kernel_size = (3, 3),\n",
    "                     activation = 'relu'))\n",
    "\n",
    "cnn_model.add(MaxPooling2D(pool_size = (2, 2)))\n",
    "\n",
    "cnn_model.add(Flatten())\n",
    "\n",
    "cnn_model.add(Dense(units = 128, activation = 'relu'))\n",
    "\n",
    "cnn_model.add(Dense(units = 1, activation = 'sigmoid'))\n",
    "\n",
    "cnn_model.compile(loss = 'binary_crossentropy',\n",
    "                  optimizer ='adam',\n",
    "                  metrics = ['accuracy'])\n"
   ]
  },
  {
   "cell_type": "code",
   "execution_count": 10,
   "metadata": {},
   "outputs": [
    {
     "name": "stdout",
     "output_type": "stream",
     "text": [
      "Epoch 1/5\n",
      "94/94 [==============================] - 49s 489ms/step - loss: 0.7332 - accuracy: 0.5920 - val_loss: 0.6054 - val_accuracy: 0.6693\n",
      "Epoch 2/5\n",
      "94/94 [==============================] - 41s 439ms/step - loss: 0.6261 - accuracy: 0.6507 - val_loss: 0.5950 - val_accuracy: 0.6972\n",
      "Epoch 3/5\n",
      "94/94 [==============================] - 43s 453ms/step - loss: 0.6016 - accuracy: 0.6643 - val_loss: 0.6042 - val_accuracy: 0.6801\n",
      "Epoch 4/5\n",
      "94/94 [==============================] - 46s 485ms/step - loss: 0.5996 - accuracy: 0.6697 - val_loss: 0.5826 - val_accuracy: 0.6910\n",
      "Epoch 5/5\n",
      "94/94 [==============================] - 46s 487ms/step - loss: 0.5859 - accuracy: 0.6917 - val_loss: 0.6178 - val_accuracy: 0.6770\n"
     ]
    },
    {
     "data": {
      "text/plain": [
       "<keras.callbacks.History at 0x216a4fbddc0>"
      ]
     },
     "execution_count": 10,
     "metadata": {},
     "output_type": "execute_result"
    }
   ],
   "source": [
    "# fit model 1 - 5 epochs\n",
    "cnn_model.fit(\n",
    "        train_generator,\n",
    "        epochs = 5,\n",
    "        validation_data = validation_generator)"
   ]
  },
  {
   "cell_type": "code",
   "execution_count": 11,
   "metadata": {},
   "outputs": [
    {
     "name": "stderr",
     "output_type": "stream",
     "text": [
      "WARNING:absl:Found untraced functions such as _jit_compiled_convolution_op, _jit_compiled_convolution_op while saving (showing 2 of 2). These functions will not be directly callable after loading.\n"
     ]
    },
    {
     "name": "stdout",
     "output_type": "stream",
     "text": [
      "INFO:tensorflow:Assets written to: ram://0c51aca9-44c9-41c8-9b6f-7f5a1b5b40d5/assets\n"
     ]
    },
    {
     "name": "stderr",
     "output_type": "stream",
     "text": [
      "INFO:tensorflow:Assets written to: ram://0c51aca9-44c9-41c8-9b6f-7f5a1b5b40d5/assets\n"
     ]
    }
   ],
   "source": [
    "with open('./models/cnn_1.pkl', 'wb') as f:\n",
    "    pickle.dump(cnn_model, f)"
   ]
  },
  {
   "cell_type": "code",
   "execution_count": 13,
   "metadata": {},
   "outputs": [
    {
     "name": "stdout",
     "output_type": "stream",
     "text": [
      "Epoch 1/10\n",
      "94/94 [==============================] - 42s 442ms/step - loss: 0.4814 - accuracy: 0.7777 - val_loss: 0.6269 - val_accuracy: 0.7220\n",
      "Epoch 2/10\n",
      "94/94 [==============================] - 43s 451ms/step - loss: 0.4826 - accuracy: 0.7653 - val_loss: 0.7047 - val_accuracy: 0.6894\n",
      "Epoch 3/10\n",
      "94/94 [==============================] - 41s 435ms/step - loss: 0.4742 - accuracy: 0.7717 - val_loss: 0.6502 - val_accuracy: 0.7096\n",
      "Epoch 4/10\n",
      "94/94 [==============================] - 41s 430ms/step - loss: 0.4760 - accuracy: 0.7830 - val_loss: 0.5993 - val_accuracy: 0.7453\n",
      "Epoch 5/10\n",
      "94/94 [==============================] - 41s 431ms/step - loss: 0.4582 - accuracy: 0.7820 - val_loss: 0.6404 - val_accuracy: 0.7236\n",
      "Epoch 6/10\n",
      "94/94 [==============================] - 40s 429ms/step - loss: 0.4410 - accuracy: 0.7877 - val_loss: 0.6771 - val_accuracy: 0.7205\n",
      "Epoch 7/10\n",
      "94/94 [==============================] - 41s 431ms/step - loss: 0.4577 - accuracy: 0.7863 - val_loss: 0.6155 - val_accuracy: 0.7205\n",
      "Epoch 8/10\n",
      "94/94 [==============================] - 41s 435ms/step - loss: 0.4330 - accuracy: 0.7973 - val_loss: 0.6310 - val_accuracy: 0.7484\n",
      "Epoch 9/10\n",
      "94/94 [==============================] - 40s 430ms/step - loss: 0.4140 - accuracy: 0.8090 - val_loss: 0.6077 - val_accuracy: 0.7143\n",
      "Epoch 10/10\n",
      "94/94 [==============================] - 40s 429ms/step - loss: 0.4044 - accuracy: 0.8247 - val_loss: 0.6333 - val_accuracy: 0.7329\n"
     ]
    },
    {
     "data": {
      "text/plain": [
       "<keras.callbacks.History at 0x2182d9e97f0>"
      ]
     },
     "execution_count": 13,
     "metadata": {},
     "output_type": "execute_result"
    }
   ],
   "source": [
    "# fit model 1 - 10 epochs, batch size 128\n",
    "cnn_model.fit(\n",
    "        train_generator,\n",
    "        epochs = 10, batch_size = 128,\n",
    "        validation_data = validation_generator)"
   ]
  },
  {
   "cell_type": "code",
   "execution_count": 19,
   "metadata": {},
   "outputs": [],
   "source": [
    "# set up model\n",
    "cnn_model_2 = Sequential()\n",
    "\n",
    "cnn_model_2.add(Conv2D( \n",
    "  filters = 6, # number of filters\n",
    "  kernel_size = (3, 3), # height/width of filter\n",
    "  activation = 'relu', # activation function \n",
    "  input_shape = (300, 300, 1) # shape of input (image)\n",
    "))\n",
    "\n",
    "cnn_model_2.add(MaxPooling2D(pool_size = (2, 2))) # dimensions of region of pooling\n",
    "\n",
    "cnn_model_2.add(Conv2D(filters = 16,\n",
    "                     kernel_size = (3, 3),\n",
    "                     activation = 'relu'))\n",
    "\n",
    "cnn_model_2.add(MaxPooling2D(pool_size = (2, 2)))\n",
    "\n",
    "cnn_model_2.add(Flatten())\n",
    "\n",
    "cnn_model_2.add(Dense(units = 128, activation = 'relu'))\n",
    "\n",
    "cnn_model_2.add(Dense(units = 64, activation = 'relu'))\n",
    "\n",
    "cnn_model_2.add(Dense(units = 1, activation = 'sigmoid'))\n",
    "\n",
    "cnn_model_2.compile(loss = 'binary_crossentropy',\n",
    "                  optimizer ='adam',\n",
    "                  metrics = ['accuracy'])"
   ]
  },
  {
   "cell_type": "code",
   "execution_count": 20,
   "metadata": {},
   "outputs": [
    {
     "name": "stdout",
     "output_type": "stream",
     "text": [
      "Epoch 1/10\n",
      "94/94 [==============================] - 62s 655ms/step - loss: 0.7140 - accuracy: 0.5560 - val_loss: 0.6325 - val_accuracy: 0.6320\n",
      "Epoch 2/10\n",
      "94/94 [==============================] - 61s 646ms/step - loss: 0.6574 - accuracy: 0.6147 - val_loss: 0.6206 - val_accuracy: 0.6599\n",
      "Epoch 3/10\n",
      "94/94 [==============================] - 62s 649ms/step - loss: 0.6313 - accuracy: 0.6397 - val_loss: 0.6604 - val_accuracy: 0.6149\n",
      "Epoch 4/10\n",
      "94/94 [==============================] - 63s 665ms/step - loss: 0.6049 - accuracy: 0.6697 - val_loss: 0.6127 - val_accuracy: 0.6755\n",
      "Epoch 5/10\n",
      "94/94 [==============================] - 63s 668ms/step - loss: 0.5844 - accuracy: 0.6847 - val_loss: 0.6356 - val_accuracy: 0.6382\n",
      "Epoch 6/10\n",
      "94/94 [==============================] - 62s 650ms/step - loss: 0.5737 - accuracy: 0.6943 - val_loss: 0.6580 - val_accuracy: 0.6739\n",
      "Epoch 7/10\n",
      "94/94 [==============================] - 61s 641ms/step - loss: 0.5616 - accuracy: 0.7117 - val_loss: 0.6190 - val_accuracy: 0.6724\n",
      "Epoch 8/10\n",
      "94/94 [==============================] - 61s 650ms/step - loss: 0.5528 - accuracy: 0.7190 - val_loss: 0.6001 - val_accuracy: 0.6941\n",
      "Epoch 9/10\n",
      "94/94 [==============================] - 62s 652ms/step - loss: 0.5343 - accuracy: 0.7250 - val_loss: 0.6612 - val_accuracy: 0.6677\n",
      "Epoch 10/10\n",
      "94/94 [==============================] - 61s 641ms/step - loss: 0.5232 - accuracy: 0.7437 - val_loss: 0.6315 - val_accuracy: 0.7019\n"
     ]
    },
    {
     "data": {
      "text/plain": [
       "<keras.callbacks.History at 0x218e6e61b20>"
      ]
     },
     "execution_count": 20,
     "metadata": {},
     "output_type": "execute_result"
    }
   ],
   "source": [
    "# fit model 2 - 5 epochs, batch size 128\n",
    "cnn_model_2.fit(\n",
    "        train_generator,\n",
    "        epochs = 10, batch_size = 128,\n",
    "        validation_data = validation_generator)"
   ]
  },
  {
   "cell_type": "code",
   "execution_count": 26,
   "metadata": {},
   "outputs": [],
   "source": [
    "# same as first one except early stopping\n",
    "\n",
    "es = EarlyStopping(patience = 5)\n",
    "\n",
    "# set up model\n",
    "cnn_model_3 = Sequential()\n",
    "\n",
    "cnn_model_3.add(Conv2D( \n",
    "  filters = 6, # number of filters\n",
    "  kernel_size = (3, 3), # height/width of filter\n",
    "  activation = 'relu', # activation function \n",
    "  input_shape = (300, 300, 1) # shape of input (image)\n",
    "))\n",
    "\n",
    "cnn_model_3.add(MaxPooling2D(pool_size = (2, 2))) # dimensions of region of pooling\n",
    "\n",
    "cnn_model_3.add(Conv2D(filters = 16,\n",
    "                     kernel_size = (3, 3),\n",
    "                     activation = 'relu'))\n",
    "\n",
    "cnn_model_3.add(MaxPooling2D(pool_size = (2, 2)))\n",
    "\n",
    "cnn_model_3.add(Flatten())\n",
    "\n",
    "cnn_model_3.add(Dense(units = 128, activation = 'relu'))\n",
    "\n",
    "cnn_model_3.add(Dense(units = 1, activation = 'sigmoid'))\n",
    "\n",
    "cnn_model_3.compile(loss = 'binary_crossentropy',\n",
    "                  optimizer ='adam',\n",
    "                  metrics = ['accuracy'])\n"
   ]
  },
  {
   "cell_type": "code",
   "execution_count": 27,
   "metadata": {},
   "outputs": [
    {
     "name": "stdout",
     "output_type": "stream",
     "text": [
      "Epoch 1/50\n",
      "94/94 [==============================] - 44s 460ms/step - loss: 1.1377 - accuracy: 0.5367 - val_loss: 0.6376 - val_accuracy: 0.6398\n",
      "Epoch 2/50\n",
      "94/94 [==============================] - 41s 429ms/step - loss: 0.6439 - accuracy: 0.6290 - val_loss: 0.6030 - val_accuracy: 0.6832\n",
      "Epoch 3/50\n",
      "94/94 [==============================] - 41s 433ms/step - loss: 0.6205 - accuracy: 0.6473 - val_loss: 0.6083 - val_accuracy: 0.6724\n",
      "Epoch 4/50\n",
      "94/94 [==============================] - 43s 455ms/step - loss: 0.6171 - accuracy: 0.6557 - val_loss: 0.6039 - val_accuracy: 0.6972\n",
      "Epoch 5/50\n",
      "94/94 [==============================] - 43s 458ms/step - loss: 0.5978 - accuracy: 0.6800 - val_loss: 0.5978 - val_accuracy: 0.7081\n",
      "Epoch 6/50\n",
      "94/94 [==============================] - 44s 463ms/step - loss: 0.5703 - accuracy: 0.6923 - val_loss: 0.5887 - val_accuracy: 0.6957\n",
      "Epoch 7/50\n",
      "94/94 [==============================] - 41s 436ms/step - loss: 0.5541 - accuracy: 0.7103 - val_loss: 0.5852 - val_accuracy: 0.7065\n",
      "Epoch 8/50\n",
      "94/94 [==============================] - 42s 445ms/step - loss: 0.5353 - accuracy: 0.7323 - val_loss: 0.5758 - val_accuracy: 0.7205\n",
      "Epoch 9/50\n",
      "94/94 [==============================] - 41s 437ms/step - loss: 0.5233 - accuracy: 0.7363 - val_loss: 0.6433 - val_accuracy: 0.6957\n",
      "Epoch 10/50\n",
      "94/94 [==============================] - 40s 426ms/step - loss: 0.5160 - accuracy: 0.7443 - val_loss: 0.5838 - val_accuracy: 0.7112\n",
      "Epoch 11/50\n",
      "94/94 [==============================] - 40s 423ms/step - loss: 0.5070 - accuracy: 0.7483 - val_loss: 0.5997 - val_accuracy: 0.7283\n",
      "Epoch 12/50\n",
      "94/94 [==============================] - 40s 427ms/step - loss: 0.5058 - accuracy: 0.7480 - val_loss: 0.6296 - val_accuracy: 0.6863\n",
      "Epoch 13/50\n",
      "94/94 [==============================] - 40s 424ms/step - loss: 0.4871 - accuracy: 0.7633 - val_loss: 0.5748 - val_accuracy: 0.7329\n",
      "Epoch 14/50\n",
      "94/94 [==============================] - 40s 427ms/step - loss: 0.4759 - accuracy: 0.7733 - val_loss: 0.5943 - val_accuracy: 0.7267\n",
      "Epoch 15/50\n",
      "94/94 [==============================] - 41s 431ms/step - loss: 0.4799 - accuracy: 0.7717 - val_loss: 0.7167 - val_accuracy: 0.6646\n",
      "Epoch 16/50\n",
      "94/94 [==============================] - 41s 438ms/step - loss: 0.4544 - accuracy: 0.7860 - val_loss: 0.5902 - val_accuracy: 0.7453\n",
      "Epoch 17/50\n",
      "94/94 [==============================] - 42s 442ms/step - loss: 0.4446 - accuracy: 0.7900 - val_loss: 0.6583 - val_accuracy: 0.6972\n",
      "Epoch 18/50\n",
      "94/94 [==============================] - 40s 424ms/step - loss: 0.4321 - accuracy: 0.8017 - val_loss: 0.6128 - val_accuracy: 0.7329\n"
     ]
    },
    {
     "data": {
      "text/plain": [
       "<keras.callbacks.History at 0x218f0b43970>"
      ]
     },
     "execution_count": 27,
     "metadata": {},
     "output_type": "execute_result"
    }
   ],
   "source": [
    "# fit model 1 w/es - up to  50 epochs, batch size 64\n",
    "cnn_model_3.fit(\n",
    "        train_generator,\n",
    "        epochs = 50, batch_size = 128,\n",
    "        validation_data = validation_generator, callbacks = [es])"
   ]
  },
  {
   "cell_type": "code",
   "execution_count": 28,
   "metadata": {},
   "outputs": [
    {
     "name": "stderr",
     "output_type": "stream",
     "text": [
      "WARNING:absl:Found untraced functions such as _jit_compiled_convolution_op, _jit_compiled_convolution_op while saving (showing 2 of 2). These functions will not be directly callable after loading.\n"
     ]
    },
    {
     "name": "stdout",
     "output_type": "stream",
     "text": [
      "INFO:tensorflow:Assets written to: ram://ed815f83-f8c3-4675-85a4-8b1e78bde132/assets\n"
     ]
    },
    {
     "name": "stderr",
     "output_type": "stream",
     "text": [
      "INFO:tensorflow:Assets written to: ram://ed815f83-f8c3-4675-85a4-8b1e78bde132/assets\n"
     ]
    }
   ],
   "source": [
    "with open('./models/cnn_3.pkl', 'wb') as f:\n",
    "    pickle.dump(cnn_model_3, f)"
   ]
  },
  {
   "cell_type": "code",
   "execution_count": 29,
   "metadata": {},
   "outputs": [
    {
     "name": "stderr",
     "output_type": "stream",
     "text": [
      "WARNING:absl:Found untraced functions such as _jit_compiled_convolution_op, _jit_compiled_convolution_op while saving (showing 2 of 2). These functions will not be directly callable after loading.\n"
     ]
    },
    {
     "name": "stdout",
     "output_type": "stream",
     "text": [
      "INFO:tensorflow:Assets written to: ./models/cnn_3.ksm\\assets\n"
     ]
    },
    {
     "name": "stderr",
     "output_type": "stream",
     "text": [
      "INFO:tensorflow:Assets written to: ./models/cnn_3.ksm\\assets\n"
     ]
    }
   ],
   "source": [
    "cnn_model_3.save('./models/cnn_3.ksm')"
   ]
  },
  {
   "cell_type": "code",
   "execution_count": null,
   "metadata": {},
   "outputs": [],
   "source": []
  }
 ],
 "metadata": {
  "kernelspec": {
   "display_name": "Python 3.9.12 ('base')",
   "language": "python",
   "name": "python3"
  },
  "language_info": {
   "codemirror_mode": {
    "name": "ipython",
    "version": 3
   },
   "file_extension": ".py",
   "mimetype": "text/x-python",
   "name": "python",
   "nbconvert_exporter": "python",
   "pygments_lexer": "ipython3",
   "version": "3.9.12"
  },
  "orig_nbformat": 4,
  "vscode": {
   "interpreter": {
    "hash": "5c5d815f4904d5c36e1cb6a23cb867a61c9881b6acdb1b6d63422ceae43ed5d6"
   }
  }
 },
 "nbformat": 4,
 "nbformat_minor": 2
}

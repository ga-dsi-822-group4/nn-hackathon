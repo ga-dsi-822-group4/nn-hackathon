{
 "cells": [
  {
   "cell_type": "code",
   "execution_count": 1,
   "metadata": {},
   "outputs": [],
   "source": [
    "# standard imports\n",
    "import numpy as np\n",
    "import pandas as pd\n",
    "import matplotlib.pyplot as plt\n",
    "import os # need for file enumeration\n",
    "\n",
    "from tensorflow.keras.preprocessing.image import ImageDataGenerator\n",
    "from tensorflow.keras.models import Sequential\n",
    "from tensorflow.keras.layers import Dense, Dropout, Flatten, Conv2D, MaxPooling2D\n",
    "from tensorflow.keras.regularizers import l2\n",
    "from tensorflow.keras.callbacks import EarlyStopping\n",
    "\n",
    "# For reproducibility\n",
    "np.random.seed(42)"
   ]
  },
  {
   "cell_type": "code",
   "execution_count": 2,
   "metadata": {},
   "outputs": [],
   "source": [
    "# get our file listings for train and test\n",
    "train_files = os.listdir('images/train/')\n",
    "test_files = os.listdir('images/test/')"
   ]
  },
  {
   "cell_type": "code",
   "execution_count": 3,
   "metadata": {},
   "outputs": [],
   "source": [
    "# convert filenames into dataframes\n",
    "train_df = pd.DataFrame(train_files, columns = ['filename'])\n",
    "test_df = pd.DataFrame(test_files, columns = ['filename'])"
   ]
  },
  {
   "cell_type": "code",
   "execution_count": 4,
   "metadata": {},
   "outputs": [],
   "source": [
    "# label 'em\n",
    "train_df['hotdog'] = train_df['filename'].map(lambda x:\n",
    "    'hotdog' if x.startswith('hotdog') else 'nothotdog')\n",
    "test_df['hotdog'] = test_df['filename'].map(lambda x:\n",
    "    'hotdog' if x.startswith('hotdog') else 'nothotdog')"
   ]
  },
  {
   "cell_type": "code",
   "execution_count": 5,
   "metadata": {},
   "outputs": [
    {
     "name": "stdout",
     "output_type": "stream",
     "text": [
      "Found 3000 validated image filenames belonging to 2 classes.\n",
      "Found 644 validated image filenames belonging to 2 classes.\n"
     ]
    }
   ],
   "source": [
    "# set up imagedatagenerators\n",
    "train_datagen = ImageDataGenerator(\n",
    "        rescale=1./255,\n",
    "        shear_range=0.2,\n",
    "        zoom_range=0.2,\n",
    "        horizontal_flip=True)\n",
    "test_datagen = ImageDataGenerator(rescale=1./255)\n",
    "train_generator = train_datagen.flow_from_dataframe(\n",
    "        dataframe = train_df,\n",
    "        directory = 'images/train',\n",
    "        x_col = 'filename',\n",
    "        y_col = 'hotdog',\n",
    "        target_size=(300, 300),\n",
    "        batch_size=32,\n",
    "        class_mode='binary')\n",
    "validation_generator = test_datagen.flow_from_dataframe(\n",
    "        dataframe = test_df,\n",
    "        directory = 'images/test',\n",
    "        x_col = 'filename',\n",
    "        y_col = 'hotdog',\n",
    "        target_size=(300, 300),\n",
    "        batch_size=32,\n",
    "        class_mode='binary')"
   ]
  },
  {
   "cell_type": "code",
   "execution_count": 6,
   "metadata": {},
   "outputs": [
    {
     "data": {
      "text/plain": [
       "hotdog       0.5\n",
       "nothotdog    0.5\n",
       "Name: hotdog, dtype: float64"
      ]
     },
     "execution_count": 6,
     "metadata": {},
     "output_type": "execute_result"
    }
   ],
   "source": [
    "# train baseline\n",
    "train_df['hotdog'].value_counts(normalize = True)"
   ]
  },
  {
   "cell_type": "code",
   "execution_count": 7,
   "metadata": {},
   "outputs": [
    {
     "data": {
      "text/plain": [
       "hotdog       0.5\n",
       "nothotdog    0.5\n",
       "Name: hotdog, dtype: float64"
      ]
     },
     "execution_count": 7,
     "metadata": {},
     "output_type": "execute_result"
    }
   ],
   "source": [
    "# test baseline\n",
    "test_df['hotdog'].value_counts(normalize = True)"
   ]
  },
  {
   "cell_type": "code",
   "execution_count": 8,
   "metadata": {},
   "outputs": [],
   "source": [
    "# set up model\n",
    "cnn_model = Sequential()\n",
    "\n",
    "cnn_model.add(Conv2D( \n",
    "  filters = 6, # number of filters\n",
    "  kernel_size = (3, 3), # height/width of filter\n",
    "  activation = 'relu', # activation function \n",
    "  input_shape = (300, 300, 3) # shape of input (image)\n",
    "))\n",
    "\n",
    "cnn_model.add(MaxPooling2D(pool_size = (2, 2))) # dimensions of region of pooling\n",
    "\n",
    "cnn_model.add(Conv2D(filters = 16,\n",
    "                     kernel_size = (3, 3),\n",
    "                     activation = 'relu'))\n",
    "\n",
    "cnn_model.add(MaxPooling2D(pool_size = (2, 2)))\n",
    "\n",
    "cnn_model.add(Flatten())\n",
    "\n",
    "cnn_model.add(Dense(units = 128, activation = 'relu'))\n",
    "\n",
    "cnn_model.add(Dense(units = 1, activation = 'sigmoid'))\n",
    "\n",
    "cnn_model.compile(loss = 'binary_crossentropy',\n",
    "                  optimizer ='adam',\n",
    "                  metrics = ['accuracy'])\n"
   ]
  },
  {
   "cell_type": "code",
   "execution_count": 9,
   "metadata": {},
   "outputs": [
    {
     "name": "stdout",
     "output_type": "stream",
     "text": [
      "Epoch 1/5\n",
      "94/94 [==============================] - 46s 433ms/step - loss: 0.7233 - accuracy: 0.6330 - val_loss: 0.6001 - val_accuracy: 0.6832\n",
      "Epoch 2/5\n",
      "94/94 [==============================] - 40s 423ms/step - loss: 0.5978 - accuracy: 0.6813 - val_loss: 0.5866 - val_accuracy: 0.7050\n",
      "Epoch 3/5\n",
      "94/94 [==============================] - 41s 434ms/step - loss: 0.5624 - accuracy: 0.7143 - val_loss: 0.5600 - val_accuracy: 0.7376\n",
      "Epoch 4/5\n",
      "94/94 [==============================] - 40s 429ms/step - loss: 0.5509 - accuracy: 0.7150 - val_loss: 0.5537 - val_accuracy: 0.7220\n",
      "Epoch 5/5\n",
      "94/94 [==============================] - 41s 441ms/step - loss: 0.5301 - accuracy: 0.7377 - val_loss: 0.5424 - val_accuracy: 0.7314\n"
     ]
    },
    {
     "data": {
      "text/plain": [
       "<keras.callbacks.History at 0x1b12e155550>"
      ]
     },
     "execution_count": 9,
     "metadata": {},
     "output_type": "execute_result"
    }
   ],
   "source": [
    "# fit model 1 - 5 epochs\n",
    "cnn_model.fit(\n",
    "        train_generator,\n",
    "        epochs = 5,\n",
    "        validation_data = validation_generator)"
   ]
  },
  {
   "cell_type": "code",
   "execution_count": 10,
   "metadata": {},
   "outputs": [
    {
     "name": "stdout",
     "output_type": "stream",
     "text": [
      "Epoch 1/10\n",
      "94/94 [==============================] - 41s 433ms/step - loss: 0.5138 - accuracy: 0.7480 - val_loss: 0.5780 - val_accuracy: 0.7252\n",
      "Epoch 2/10\n",
      "94/94 [==============================] - 41s 436ms/step - loss: 0.4946 - accuracy: 0.7633 - val_loss: 0.5476 - val_accuracy: 0.7345\n",
      "Epoch 3/10\n",
      "94/94 [==============================] - 42s 447ms/step - loss: 0.4706 - accuracy: 0.7757 - val_loss: 0.6530 - val_accuracy: 0.7034\n",
      "Epoch 4/10\n",
      "94/94 [==============================] - 43s 459ms/step - loss: 0.4695 - accuracy: 0.7747 - val_loss: 0.6964 - val_accuracy: 0.6817\n",
      "Epoch 5/10\n",
      "94/94 [==============================] - 44s 466ms/step - loss: 0.4504 - accuracy: 0.7890 - val_loss: 0.6412 - val_accuracy: 0.7174\n",
      "Epoch 6/10\n",
      "94/94 [==============================] - 43s 460ms/step - loss: 0.4336 - accuracy: 0.8000 - val_loss: 0.6428 - val_accuracy: 0.7345\n",
      "Epoch 7/10\n",
      "94/94 [==============================] - 41s 436ms/step - loss: 0.4389 - accuracy: 0.7977 - val_loss: 0.7325 - val_accuracy: 0.7065\n",
      "Epoch 8/10\n",
      "94/94 [==============================] - 41s 436ms/step - loss: 0.4094 - accuracy: 0.8187 - val_loss: 0.6565 - val_accuracy: 0.7329\n",
      "Epoch 9/10\n",
      "94/94 [==============================] - 41s 435ms/step - loss: 0.4016 - accuracy: 0.8213 - val_loss: 0.7195 - val_accuracy: 0.7252\n",
      "Epoch 10/10\n",
      "94/94 [==============================] - 42s 449ms/step - loss: 0.3957 - accuracy: 0.8197 - val_loss: 0.6406 - val_accuracy: 0.7267\n"
     ]
    },
    {
     "data": {
      "text/plain": [
       "<keras.callbacks.History at 0x1b1265f6820>"
      ]
     },
     "execution_count": 10,
     "metadata": {},
     "output_type": "execute_result"
    }
   ],
   "source": [
    "# fit model 1 - 10 epochs, batch size 128\n",
    "cnn_model.fit(\n",
    "        train_generator,\n",
    "        epochs = 10, batch_size = 128,\n",
    "        validation_data = validation_generator)"
   ]
  },
  {
   "cell_type": "code",
   "execution_count": 19,
   "metadata": {},
   "outputs": [],
   "source": [
    "# set up model\n",
    "cnn_model_2 = Sequential()\n",
    "\n",
    "cnn_model_2.add(Conv2D( \n",
    "  filters = 6, # number of filters\n",
    "  kernel_size = (3, 3), # height/width of filter\n",
    "  activation = 'relu', # activation function \n",
    "  input_shape = (300, 300, 3) # shape of input (image)\n",
    "))\n",
    "\n",
    "cnn_model_2.add(MaxPooling2D(pool_size = (2, 2))) # dimensions of region of pooling\n",
    "\n",
    "cnn_model_2.add(Conv2D(filters = 16,\n",
    "                     kernel_size = (3, 3),\n",
    "                     activation = 'relu'))\n",
    "\n",
    "cnn_model_2.add(MaxPooling2D(pool_size = (2, 2)))\n",
    "\n",
    "cnn_model_2.add(Flatten())\n",
    "\n",
    "cnn_model_2.add(Dense(units = 128, activation = 'relu'))\n",
    "\n",
    "cnn_model_2.add(Dense(units = 64, activation = 'relu'))\n",
    "\n",
    "cnn_model_2.add(Dense(units = 1, activation = 'sigmoid'))\n",
    "\n",
    "cnn_model_2.compile(loss = 'binary_crossentropy',\n",
    "                  optimizer ='adam',\n",
    "                  metrics = ['accuracy'])"
   ]
  },
  {
   "cell_type": "code",
   "execution_count": 20,
   "metadata": {},
   "outputs": [
    {
     "name": "stdout",
     "output_type": "stream",
     "text": [
      "Epoch 1/10\n",
      "94/94 [==============================] - 62s 655ms/step - loss: 0.7140 - accuracy: 0.5560 - val_loss: 0.6325 - val_accuracy: 0.6320\n",
      "Epoch 2/10\n",
      "94/94 [==============================] - 61s 646ms/step - loss: 0.6574 - accuracy: 0.6147 - val_loss: 0.6206 - val_accuracy: 0.6599\n",
      "Epoch 3/10\n",
      "94/94 [==============================] - 62s 649ms/step - loss: 0.6313 - accuracy: 0.6397 - val_loss: 0.6604 - val_accuracy: 0.6149\n",
      "Epoch 4/10\n",
      "94/94 [==============================] - 63s 665ms/step - loss: 0.6049 - accuracy: 0.6697 - val_loss: 0.6127 - val_accuracy: 0.6755\n",
      "Epoch 5/10\n",
      "94/94 [==============================] - 63s 668ms/step - loss: 0.5844 - accuracy: 0.6847 - val_loss: 0.6356 - val_accuracy: 0.6382\n",
      "Epoch 6/10\n",
      "94/94 [==============================] - 62s 650ms/step - loss: 0.5737 - accuracy: 0.6943 - val_loss: 0.6580 - val_accuracy: 0.6739\n",
      "Epoch 7/10\n",
      "94/94 [==============================] - 61s 641ms/step - loss: 0.5616 - accuracy: 0.7117 - val_loss: 0.6190 - val_accuracy: 0.6724\n",
      "Epoch 8/10\n",
      "94/94 [==============================] - 61s 650ms/step - loss: 0.5528 - accuracy: 0.7190 - val_loss: 0.6001 - val_accuracy: 0.6941\n",
      "Epoch 9/10\n",
      "94/94 [==============================] - 62s 652ms/step - loss: 0.5343 - accuracy: 0.7250 - val_loss: 0.6612 - val_accuracy: 0.6677\n",
      "Epoch 10/10\n",
      "94/94 [==============================] - 61s 641ms/step - loss: 0.5232 - accuracy: 0.7437 - val_loss: 0.6315 - val_accuracy: 0.7019\n"
     ]
    },
    {
     "data": {
      "text/plain": [
       "<keras.callbacks.History at 0x218e6e61b20>"
      ]
     },
     "execution_count": 20,
     "metadata": {},
     "output_type": "execute_result"
    }
   ],
   "source": [
    "# fit model 2 - 5 epochs, batch size 128\n",
    "cnn_model_2.fit(\n",
    "        train_generator,\n",
    "        epochs = 10, batch_size = 128,\n",
    "        validation_data = validation_generator)"
   ]
  },
  {
   "cell_type": "code",
   "execution_count": 18,
   "metadata": {},
   "outputs": [],
   "source": [
    "# same as first one except early stopping\n",
    "\n",
    "es = EarlyStopping(patience = 5)\n",
    "\n",
    "# set up model\n",
    "cnn_model_3 = Sequential()\n",
    "\n",
    "cnn_model_3.add(Conv2D( \n",
    "  filters = 6, # number of filters\n",
    "  kernel_size = (3, 3), # height/width of filter\n",
    "  activation = 'relu', # activation function \n",
    "  input_shape = (300, 300, 3) # shape of input (image)\n",
    "))\n",
    "\n",
    "cnn_model_3.add(MaxPooling2D(pool_size = (2, 2))) # dimensions of region of pooling\n",
    "\n",
    "cnn_model_3.add(Conv2D(filters = 16,\n",
    "                     kernel_size = (3, 3),\n",
    "                     activation = 'relu'))\n",
    "\n",
    "cnn_model_3.add(MaxPooling2D(pool_size = (2, 2)))\n",
    "\n",
    "cnn_model_3.add(Flatten())\n",
    "\n",
    "cnn_model_3.add(Dense(units = 128, activation = 'relu', kernel_regularizer = l2(0.01)))\n",
    "\n",
    "cnn_model_3.add(Dense(units = 1, activation = 'sigmoid'))\n",
    "\n",
    "cnn_model_3.compile(loss = 'binary_crossentropy',\n",
    "                  optimizer ='adam',\n",
    "                  metrics = ['accuracy'])\n"
   ]
  },
  {
   "cell_type": "code",
   "execution_count": 19,
   "metadata": {},
   "outputs": [
    {
     "name": "stdout",
     "output_type": "stream",
     "text": [
      "Epoch 1/50\n",
      "94/94 [==============================] - 44s 454ms/step - loss: 1.1490 - accuracy: 0.5930 - val_loss: 0.7824 - val_accuracy: 0.6009\n",
      "Epoch 2/50\n",
      "94/94 [==============================] - 43s 459ms/step - loss: 0.7186 - accuracy: 0.6473 - val_loss: 0.7237 - val_accuracy: 0.6584\n",
      "Epoch 3/50\n",
      "94/94 [==============================] - 41s 431ms/step - loss: 0.6986 - accuracy: 0.6650 - val_loss: 0.7178 - val_accuracy: 0.6382\n",
      "Epoch 4/50\n",
      "94/94 [==============================] - 41s 434ms/step - loss: 0.6847 - accuracy: 0.6627 - val_loss: 0.6773 - val_accuracy: 0.6832\n",
      "Epoch 5/50\n",
      "94/94 [==============================] - 40s 428ms/step - loss: 0.6682 - accuracy: 0.6797 - val_loss: 0.6462 - val_accuracy: 0.7019\n",
      "Epoch 6/50\n",
      "94/94 [==============================] - 42s 443ms/step - loss: 0.6627 - accuracy: 0.6780 - val_loss: 0.6588 - val_accuracy: 0.7081\n",
      "Epoch 7/50\n",
      "94/94 [==============================] - 42s 442ms/step - loss: 0.6590 - accuracy: 0.6877 - val_loss: 0.6527 - val_accuracy: 0.6832\n",
      "Epoch 8/50\n",
      "94/94 [==============================] - 41s 435ms/step - loss: 0.6533 - accuracy: 0.6950 - val_loss: 0.6463 - val_accuracy: 0.7003\n",
      "Epoch 9/50\n",
      "94/94 [==============================] - 40s 430ms/step - loss: 0.6546 - accuracy: 0.6813 - val_loss: 0.7147 - val_accuracy: 0.6708\n",
      "Epoch 10/50\n",
      "94/94 [==============================] - 42s 441ms/step - loss: 0.6496 - accuracy: 0.6897 - val_loss: 0.6173 - val_accuracy: 0.7081\n",
      "Epoch 11/50\n",
      "94/94 [==============================] - 41s 437ms/step - loss: 0.6561 - accuracy: 0.6813 - val_loss: 0.6757 - val_accuracy: 0.6739\n",
      "Epoch 12/50\n",
      "94/94 [==============================] - 42s 446ms/step - loss: 0.6502 - accuracy: 0.6920 - val_loss: 0.6157 - val_accuracy: 0.7112\n",
      "Epoch 13/50\n",
      "94/94 [==============================] - 42s 446ms/step - loss: 0.6494 - accuracy: 0.6880 - val_loss: 0.6375 - val_accuracy: 0.6832\n",
      "Epoch 14/50\n",
      "94/94 [==============================] - 42s 451ms/step - loss: 0.6448 - accuracy: 0.6963 - val_loss: 0.6582 - val_accuracy: 0.6972\n",
      "Epoch 15/50\n",
      "94/94 [==============================] - 41s 440ms/step - loss: 0.6494 - accuracy: 0.6880 - val_loss: 0.7451 - val_accuracy: 0.6211\n",
      "Epoch 16/50\n",
      "94/94 [==============================] - 41s 436ms/step - loss: 0.6397 - accuracy: 0.6850 - val_loss: 0.7236 - val_accuracy: 0.6460\n",
      "Epoch 17/50\n",
      "94/94 [==============================] - 41s 437ms/step - loss: 0.6371 - accuracy: 0.6943 - val_loss: 0.6222 - val_accuracy: 0.7205\n"
     ]
    },
    {
     "data": {
      "text/plain": [
       "<keras.callbacks.History at 0x1b337077640>"
      ]
     },
     "execution_count": 19,
     "metadata": {},
     "output_type": "execute_result"
    }
   ],
   "source": [
    "# fit model 1 w/es - up to  50 epochs, batch size 64\n",
    "cnn_model_3.fit(\n",
    "        train_generator,\n",
    "        epochs = 50, batch_size = 128,\n",
    "        validation_data = validation_generator, callbacks = [es])"
   ]
  },
  {
   "cell_type": "code",
   "execution_count": 29,
   "metadata": {},
   "outputs": [
    {
     "name": "stderr",
     "output_type": "stream",
     "text": [
      "WARNING:absl:Found untraced functions such as _jit_compiled_convolution_op, _jit_compiled_convolution_op while saving (showing 2 of 2). These functions will not be directly callable after loading.\n"
     ]
    },
    {
     "name": "stdout",
     "output_type": "stream",
     "text": [
      "INFO:tensorflow:Assets written to: ./models/cnn_3.ksm\\assets\n"
     ]
    },
    {
     "name": "stderr",
     "output_type": "stream",
     "text": [
      "INFO:tensorflow:Assets written to: ./models/cnn_3.ksm\\assets\n"
     ]
    }
   ],
   "source": [
    "cnn_model_3.save('./models/cnn_3.ksm')"
   ]
  },
  {
   "cell_type": "code",
   "execution_count": null,
   "metadata": {},
   "outputs": [],
   "source": []
  }
 ],
 "metadata": {
  "kernelspec": {
   "display_name": "Python 3.9.12 ('base')",
   "language": "python",
   "name": "python3"
  },
  "language_info": {
   "codemirror_mode": {
    "name": "ipython",
    "version": 3
   },
   "file_extension": ".py",
   "mimetype": "text/x-python",
   "name": "python",
   "nbconvert_exporter": "python",
   "pygments_lexer": "ipython3",
   "version": "3.9.12"
  },
  "orig_nbformat": 4,
  "vscode": {
   "interpreter": {
    "hash": "5c5d815f4904d5c36e1cb6a23cb867a61c9881b6acdb1b6d63422ceae43ed5d6"
   }
  }
 },
 "nbformat": 4,
 "nbformat_minor": 2
}
